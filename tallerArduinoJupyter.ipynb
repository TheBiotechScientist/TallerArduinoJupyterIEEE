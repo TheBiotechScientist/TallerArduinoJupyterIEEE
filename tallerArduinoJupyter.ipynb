{
 "cells": [
  {
   "cell_type": "markdown",
   "metadata": {
    "toc": true
   },
   "source": [
    "<h1>Contenido<span class=\"tocSkip\"></span></h1>\n",
    "<div class=\"toc\"><ul class=\"toc-item\"><li><span><a href=\"#Conexión-Serial-con-Python\" data-toc-modified-id=\"Conexión-Serial-con-Python-1\"><span class=\"toc-item-num\">1&nbsp;&nbsp;</span>Conexión Serial con Python</a></span></li><li><span><a href=\"#Lectura-de-datos-por-puerto-serie\" data-toc-modified-id=\"Lectura-de-datos-por-puerto-serie-2\"><span class=\"toc-item-num\">2&nbsp;&nbsp;</span>Lectura de datos por puerto serie</a></span></li><li><span><a href=\"#Lectura-de-datos-con-ciclo-For\" data-toc-modified-id=\"Lectura-de-datos-con-ciclo-For-3\"><span class=\"toc-item-num\">3&nbsp;&nbsp;</span>Lectura de datos con ciclo <code>For</code></a></span></li><li><span><a href=\"#Lectura-de-datos-con-ciclo-While\" data-toc-modified-id=\"Lectura-de-datos-con-ciclo-While-4\"><span class=\"toc-item-num\">4&nbsp;&nbsp;</span>Lectura de datos con ciclo <code>While</code></a></span></li><li><span><a href=\"#open()-&amp;-close().-Abriendo-y-cerrando-el-puerto-serial\" data-toc-modified-id=\"open()-&amp;-close().-Abriendo-y-cerrando-el-puerto-serial-5\"><span class=\"toc-item-num\">5&nbsp;&nbsp;</span><code>open()</code> &amp; <code>close()</code>. Abriendo y cerrando el puerto serial</a></span></li><li><span><a href=\"#Propiedades-del-objeto-serial-arduino\" data-toc-modified-id=\"Propiedades-del-objeto-serial-arduino-6\"><span class=\"toc-item-num\">6&nbsp;&nbsp;</span>Propiedades del objeto serial <code>arduino</code></a></span></li><li><span><a href=\"#Graficar-los-datos\" data-toc-modified-id=\"Graficar-los-datos-7\"><span class=\"toc-item-num\">7&nbsp;&nbsp;</span>Graficar los datos</a></span></li></ul></div>"
   ]
  },
  {
   "cell_type": "markdown",
   "metadata": {},
   "source": [
    "# Taller: Adquisición de Datos con Arduino y Jupyter"
   ]
  },
  {
   "cell_type": "markdown",
   "metadata": {},
   "source": [
    "## Conexión Serial con Python"
   ]
  },
  {
   "cell_type": "markdown",
   "metadata": {},
   "source": [
    "En esta sección veremos los fundamentos de Python para una conexión serial con Arduino, las librerías y los comandos necesarios para leer el puerto serie."
   ]
  },
  {
   "cell_type": "markdown",
   "metadata": {},
   "source": [
    "Primero importamos las librerias necesarias:"
   ]
  },
  {
   "cell_type": "code",
   "execution_count": 1,
   "metadata": {},
   "outputs": [],
   "source": [
    "import serial as ser# Para la conexión serial\n",
    "import time # Para dar una pausa a la lectura serial\n",
    "import matplotlib.pyplot as plt # Para graficar los datos"
   ]
  },
  {
   "cell_type": "markdown",
   "metadata": {},
   "source": [
    "Creamos el objeto `arduino` que inicializa (abre) el puerto serie donde está conectado nuestro Arduino. A este objeto le pasamos los parámetros del puerto `COM`, los `baudios` y el `tiempo de espera` (si es necesario) con el siguiente comando:"
   ]
  },
  {
   "cell_type": "code",
   "execution_count": 2,
   "metadata": {},
   "outputs": [],
   "source": [
    "#  objeto serial ( puerto , baudios)\n",
    "arduino = ser.Serial('COM4', 9600)\n",
    "arduino.flushInput() # Para limpar el buffer de entrada del puerto serie\n",
    "time.sleep(2) # Hacemos una pausa de 2 segundos"
   ]
  },
  {
   "cell_type": "markdown",
   "metadata": {},
   "source": [
    "## Lectura de datos por puerto serie"
   ]
  },
  {
   "cell_type": "markdown",
   "metadata": {},
   "source": [
    "La información que se transmite por el bus serial está empaquetada en bytes. Para leer una serie de bytes utilizamos el método `readline(parametro)`, donde parámetro es el numero (en entero) de bytes a leer. Por defecto lee hasta agotar el tiempo de espera entre paquetes de información. Creamos entonces una vairable que lee una cadena de bytes:"
   ]
  },
  {
   "cell_type": "code",
   "execution_count": 3,
   "metadata": {},
   "outputs": [
    {
     "name": "stdout",
     "output_type": "stream",
     "text": [
      "b'684\\r\\n'\n"
     ]
    }
   ],
   "source": [
    "# cadena de bytes\n",
    "b = arduino.readline() # Lee una linea de bytes de información\n",
    "print(b) # Imprime el contenido de la variable b"
   ]
  },
  {
   "cell_type": "markdown",
   "metadata": {},
   "source": [
    "Ya que el buffer serial está almacenando los bytes que envía el Arduino cada segundo, tendríamos que hacer tantas lecturas del puerto como datos hay en el buffer. Por lo tanto, para tener el último dato que envía el Arduino, no podríamos dejar pasar ninguna lectura. Esto se podría resolver limpiando el buffer antes de hacer una lectura con el método `flushInput()` del objeto serial:"
   ]
  },
  {
   "cell_type": "code",
   "execution_count": 4,
   "metadata": {
    "scrolled": false
   },
   "outputs": [
    {
     "name": "stdout",
     "output_type": "stream",
     "text": [
      "b'684\\r\\n'\n"
     ]
    }
   ],
   "source": [
    "# cadenade bytes\n",
    "arduino.flushInput() # Limpia el buffer de datos del puerto serie\n",
    "b = arduino.readline()\n",
    "print(b)"
   ]
  },
  {
   "cell_type": "markdown",
   "metadata": {},
   "source": [
    "\n",
    "Como podemos observar, la cadena de bytes inicia con un caracter `b` que indica que se trata de bytes de información, seguido de la información que contienen esos bytes (`'612\\r\\n'` ). `\\r` es el byte para el *carrier return* y `\\n` es para una *nueva linea*. Todo está entre comillas sencillas representando una cadena de caracteres. Podemos comprobar el tipo de variable de `b` con el siguiente comando:"
   ]
  },
  {
   "cell_type": "code",
   "execution_count": 5,
   "metadata": {},
   "outputs": [
    {
     "data": {
      "text/plain": [
       "bytes"
      ]
     },
     "execution_count": 5,
     "metadata": {},
     "output_type": "execute_result"
    }
   ],
   "source": [
    "type(b) # Muestra el tipo de dato de una variable"
   ]
  },
  {
   "cell_type": "markdown",
   "metadata": {},
   "source": [
    "Y observamos que efectivamente es de tipo Byte. Para poderlo convertir a número es necesario primero convertilo a tipo caracter. Para ello le quitaremos el carrier return y el salto de linea con el método `rstrip()`:"
   ]
  },
  {
   "cell_type": "code",
   "execution_count": 6,
   "metadata": {},
   "outputs": [
    {
     "name": "stdout",
     "output_type": "stream",
     "text": [
      "b'684'\n"
     ]
    }
   ],
   "source": [
    "b = b.rstrip()\n",
    "print(b)"
   ]
  },
  {
   "cell_type": "markdown",
   "metadata": {},
   "source": [
    "Para convertir ahora a caracter utilizamos el método `decode()`:"
   ]
  },
  {
   "cell_type": "code",
   "execution_count": 7,
   "metadata": {},
   "outputs": [
    {
     "data": {
      "text/plain": [
       "'684'"
      ]
     },
     "execution_count": 7,
     "metadata": {},
     "output_type": "execute_result"
    }
   ],
   "source": [
    "b = b.decode() # Acepta como parámetros el tipo de codificación (p.e. 'utf-8') y opción para ignorar errores 'ignore'\n",
    "b"
   ]
  },
  {
   "cell_type": "markdown",
   "metadata": {},
   "source": [
    "Si comprobamos de nuevo:"
   ]
  },
  {
   "cell_type": "code",
   "execution_count": 8,
   "metadata": {},
   "outputs": [
    {
     "data": {
      "text/plain": [
       "str"
      ]
     },
     "execution_count": 8,
     "metadata": {},
     "output_type": "execute_result"
    }
   ],
   "source": [
    "type(b)"
   ]
  },
  {
   "cell_type": "markdown",
   "metadata": {},
   "source": [
    "Ahora es de tipo *string* (cadena de caracteres). Sin embargo, con este tipo de dato no se pueden hacer operaciones numéricas. Para convertirlo a un valor numérico, podemos usar las funciones `int()` o `float()`."
   ]
  },
  {
   "cell_type": "code",
   "execution_count": 9,
   "metadata": {},
   "outputs": [
    {
     "name": "stdout",
     "output_type": "stream",
     "text": [
      "684.0\n"
     ]
    },
    {
     "data": {
      "text/plain": [
       "float"
      ]
     },
     "execution_count": 9,
     "metadata": {},
     "output_type": "execute_result"
    }
   ],
   "source": [
    "b = float(b)\n",
    "print(b)\n",
    "type(b)"
   ]
  },
  {
   "cell_type": "markdown",
   "metadata": {},
   "source": [
    "## Lectura de datos con ciclo `For`"
   ]
  },
  {
   "cell_type": "markdown",
   "metadata": {},
   "source": [
    "Con el siguiente ciclo `for` podemos leer tantos datos como queramos del puerto serie. Esta forma la llamaremos ***en demanda*** y se usaría cuando sabemos cuantos datos queremos y cada cuanto tiempo."
   ]
  },
  {
   "cell_type": "code",
   "execution_count": 10,
   "metadata": {},
   "outputs": [
    {
     "name": "stdout",
     "output_type": "stream",
     "text": [
      "684.0\n",
      "684.0\n",
      "684.0\n",
      "684.0\n",
      "685.0\n"
     ]
    }
   ],
   "source": [
    "# Rango de 0 a 5\n",
    "for i in range(5):\n",
    "    arduino.flushInput()\n",
    "    b = arduino.readline() # Leemos los datos\n",
    "    b = b.rstrip().decode() # Quitamos los \\r\\n y lo conertimos a tipo string\n",
    "    b = float(b) # Lo convertimos a tipo flotante\n",
    "#     time.sleep(5)\n",
    "    print(b)"
   ]
  },
  {
   "cell_type": "markdown",
   "metadata": {},
   "source": [
    "## Lectura de datos con ciclo `While`"
   ]
  },
  {
   "cell_type": "markdown",
   "metadata": {},
   "source": [
    "Cuando no sabes cuantos datos queremos leer, entonces estariamos haciendo un ***streming*** de datos, esto es, adquirir datos continuamente hasta que el usuario (o un evento) termina la comunicación. Esto se pude hacer con un ciclo `while`."
   ]
  },
  {
   "cell_type": "code",
   "execution_count": 11,
   "metadata": {},
   "outputs": [
    {
     "name": "stdout",
     "output_type": "stream",
     "text": [
      "684.0\n",
      "684.0\n",
      "684.0\n",
      "684.0\n",
      "684.0\n",
      "684.0\n",
      "684.0\n",
      "684.0\n"
     ]
    },
    {
     "ename": "KeyboardInterrupt",
     "evalue": "",
     "output_type": "error",
     "traceback": [
      "\u001b[1;31m---------------------------------------------------------------------------\u001b[0m",
      "\u001b[1;31mKeyboardInterrupt\u001b[0m                         Traceback (most recent call last)",
      "\u001b[1;32m<ipython-input-11-d9912b380cbb>\u001b[0m in \u001b[0;36m<module>\u001b[1;34m\u001b[0m\n\u001b[0;32m      1\u001b[0m \u001b[1;32mwhile\u001b[0m \u001b[1;32mTrue\u001b[0m\u001b[1;33m:\u001b[0m\u001b[1;33m\u001b[0m\u001b[1;33m\u001b[0m\u001b[0m\n\u001b[0;32m      2\u001b[0m     \u001b[0marduino\u001b[0m\u001b[1;33m.\u001b[0m\u001b[0mflushInput\u001b[0m\u001b[1;33m(\u001b[0m\u001b[1;33m)\u001b[0m\u001b[1;33m\u001b[0m\u001b[1;33m\u001b[0m\u001b[0m\n\u001b[1;32m----> 3\u001b[1;33m     \u001b[0mb\u001b[0m \u001b[1;33m=\u001b[0m \u001b[0marduino\u001b[0m\u001b[1;33m.\u001b[0m\u001b[0mreadline\u001b[0m\u001b[1;33m(\u001b[0m\u001b[1;33m)\u001b[0m \u001b[1;31m# Leemos los datos\u001b[0m\u001b[1;33m\u001b[0m\u001b[1;33m\u001b[0m\u001b[0m\n\u001b[0m\u001b[0;32m      4\u001b[0m     \u001b[0mb\u001b[0m \u001b[1;33m=\u001b[0m \u001b[0mb\u001b[0m\u001b[1;33m.\u001b[0m\u001b[0mrstrip\u001b[0m\u001b[1;33m(\u001b[0m\u001b[1;33m)\u001b[0m\u001b[1;33m.\u001b[0m\u001b[0mdecode\u001b[0m\u001b[1;33m(\u001b[0m\u001b[1;33m)\u001b[0m \u001b[1;31m# Quitamos los \\r\\n y lo conertimos a tipo string\u001b[0m\u001b[1;33m\u001b[0m\u001b[1;33m\u001b[0m\u001b[0m\n\u001b[0;32m      5\u001b[0m     \u001b[0mb\u001b[0m \u001b[1;33m=\u001b[0m \u001b[0mfloat\u001b[0m\u001b[1;33m(\u001b[0m\u001b[0mb\u001b[0m\u001b[1;33m)\u001b[0m \u001b[1;31m# Lo convertimos a tipo flotante\u001b[0m\u001b[1;33m\u001b[0m\u001b[1;33m\u001b[0m\u001b[0m\n",
      "\u001b[1;32mC:\\Anaconda3\\lib\\site-packages\\serial\\serialwin32.py\u001b[0m in \u001b[0;36mread\u001b[1;34m(self, size)\u001b[0m\n\u001b[0;32m    290\u001b[0m                     \u001b[0mctypes\u001b[0m\u001b[1;33m.\u001b[0m\u001b[0mbyref\u001b[0m\u001b[1;33m(\u001b[0m\u001b[0mself\u001b[0m\u001b[1;33m.\u001b[0m\u001b[0m_overlapped_read\u001b[0m\u001b[1;33m)\u001b[0m\u001b[1;33m,\u001b[0m\u001b[1;33m\u001b[0m\u001b[1;33m\u001b[0m\u001b[0m\n\u001b[0;32m    291\u001b[0m                     \u001b[0mctypes\u001b[0m\u001b[1;33m.\u001b[0m\u001b[0mbyref\u001b[0m\u001b[1;33m(\u001b[0m\u001b[0mrc\u001b[0m\u001b[1;33m)\u001b[0m\u001b[1;33m,\u001b[0m\u001b[1;33m\u001b[0m\u001b[1;33m\u001b[0m\u001b[0m\n\u001b[1;32m--> 292\u001b[1;33m                     True)\n\u001b[0m\u001b[0;32m    293\u001b[0m                 \u001b[1;32mif\u001b[0m \u001b[1;32mnot\u001b[0m \u001b[0mresult_ok\u001b[0m\u001b[1;33m:\u001b[0m\u001b[1;33m\u001b[0m\u001b[1;33m\u001b[0m\u001b[0m\n\u001b[0;32m    294\u001b[0m                     \u001b[1;32mif\u001b[0m \u001b[0mwin32\u001b[0m\u001b[1;33m.\u001b[0m\u001b[0mGetLastError\u001b[0m\u001b[1;33m(\u001b[0m\u001b[1;33m)\u001b[0m \u001b[1;33m!=\u001b[0m \u001b[0mwin32\u001b[0m\u001b[1;33m.\u001b[0m\u001b[0mERROR_OPERATION_ABORTED\u001b[0m\u001b[1;33m:\u001b[0m\u001b[1;33m\u001b[0m\u001b[1;33m\u001b[0m\u001b[0m\n",
      "\u001b[1;31mKeyboardInterrupt\u001b[0m: "
     ]
    }
   ],
   "source": [
    "while True:\n",
    "    arduino.flushInput()\n",
    "    b = arduino.readline() # Leemos los datos\n",
    "    b = b.rstrip().decode() # Quitamos los \\r\\n y lo conertimos a tipo string\n",
    "    b = float(b) # Lo convertimos a tipo flotante\n",
    "    #     time.sleep(5)\n",
    "    print(b)"
   ]
  },
  {
   "cell_type": "code",
   "execution_count": 12,
   "metadata": {
    "scrolled": true
   },
   "outputs": [
    {
     "name": "stdout",
     "output_type": "stream",
     "text": [
      "684.0\n",
      "684.0\n",
      "685.0\n",
      "684.0\n",
      "684.0\n",
      "684.0\n",
      "684.0\n",
      "Streaming terminado\n"
     ]
    }
   ],
   "source": [
    "while True:\n",
    "    try:\n",
    "        arduino.flushInput()\n",
    "        b = arduino.readline() # Leemos los datos\n",
    "        b = b.rstrip().decode() # Quitamos los \\r\\n y lo conertimos a tipo string\n",
    "        b = float(b) # Lo convertimos a tipo flotante\n",
    "        #     time.sleep(5)\n",
    "        print(b)\n",
    "    except:\n",
    "        print(\"Streaming terminado\")\n",
    "        break"
   ]
  },
  {
   "cell_type": "markdown",
   "metadata": {},
   "source": [
    "## `open()` & `close()`. Abriendo y cerrando el puerto serial"
   ]
  },
  {
   "cell_type": "markdown",
   "metadata": {},
   "source": [
    "Hasta ahora hemos inicializado el puerto, pero no lo hemos cerrado. Una vez que el puerto serie ya no es necesario, porque se han leido todos los datos que queremos, es conveniente cerrarlo para terminar la comunicación y así liberar el espacio que ocupa el buffer en la memoria RAM, o vlverlo a abrir sin tener que volver a declarlo e iniciar la transferencia de datos. Esto lo logramos con las funciones `open()` y `close()`."
   ]
  },
  {
   "cell_type": "code",
   "execution_count": 143,
   "metadata": {},
   "outputs": [],
   "source": [
    "arduino.close() # Se ha cerrado el puerto serie COM4"
   ]
  },
  {
   "cell_type": "code",
   "execution_count": 144,
   "metadata": {},
   "outputs": [
    {
     "ename": "SerialException",
     "evalue": "could not open port 'COM4': FileNotFoundError(2, 'El sistema no puede encontrar el archivo especificado.', None, 2)",
     "output_type": "error",
     "traceback": [
      "\u001b[1;31m---------------------------------------------------------------------------\u001b[0m",
      "\u001b[1;31mSerialException\u001b[0m                           Traceback (most recent call last)",
      "\u001b[1;32m<ipython-input-144-57e788a043db>\u001b[0m in \u001b[0;36m<module>\u001b[1;34m\u001b[0m\n\u001b[1;32m----> 1\u001b[1;33m \u001b[0marduino\u001b[0m\u001b[1;33m.\u001b[0m\u001b[0mopen\u001b[0m\u001b[1;33m(\u001b[0m\u001b[1;33m)\u001b[0m\u001b[1;33m\u001b[0m\u001b[1;33m\u001b[0m\u001b[0m\n\u001b[0m",
      "\u001b[1;32mC:\\Anaconda3\\lib\\site-packages\\serial\\serialwin32.py\u001b[0m in \u001b[0;36mopen\u001b[1;34m(self)\u001b[0m\n\u001b[0;32m     62\u001b[0m         \u001b[1;32mif\u001b[0m \u001b[0mself\u001b[0m\u001b[1;33m.\u001b[0m\u001b[0m_port_handle\u001b[0m \u001b[1;33m==\u001b[0m \u001b[0mwin32\u001b[0m\u001b[1;33m.\u001b[0m\u001b[0mINVALID_HANDLE_VALUE\u001b[0m\u001b[1;33m:\u001b[0m\u001b[1;33m\u001b[0m\u001b[1;33m\u001b[0m\u001b[0m\n\u001b[0;32m     63\u001b[0m             \u001b[0mself\u001b[0m\u001b[1;33m.\u001b[0m\u001b[0m_port_handle\u001b[0m \u001b[1;33m=\u001b[0m \u001b[1;32mNone\u001b[0m    \u001b[1;31m# 'cause __del__ is called anyway\u001b[0m\u001b[1;33m\u001b[0m\u001b[1;33m\u001b[0m\u001b[0m\n\u001b[1;32m---> 64\u001b[1;33m             \u001b[1;32mraise\u001b[0m \u001b[0mSerialException\u001b[0m\u001b[1;33m(\u001b[0m\u001b[1;34m\"could not open port {!r}: {!r}\"\u001b[0m\u001b[1;33m.\u001b[0m\u001b[0mformat\u001b[0m\u001b[1;33m(\u001b[0m\u001b[0mself\u001b[0m\u001b[1;33m.\u001b[0m\u001b[0mportstr\u001b[0m\u001b[1;33m,\u001b[0m \u001b[0mctypes\u001b[0m\u001b[1;33m.\u001b[0m\u001b[0mWinError\u001b[0m\u001b[1;33m(\u001b[0m\u001b[1;33m)\u001b[0m\u001b[1;33m)\u001b[0m\u001b[1;33m)\u001b[0m\u001b[1;33m\u001b[0m\u001b[1;33m\u001b[0m\u001b[0m\n\u001b[0m\u001b[0;32m     65\u001b[0m \u001b[1;33m\u001b[0m\u001b[0m\n\u001b[0;32m     66\u001b[0m         \u001b[1;32mtry\u001b[0m\u001b[1;33m:\u001b[0m\u001b[1;33m\u001b[0m\u001b[1;33m\u001b[0m\u001b[0m\n",
      "\u001b[1;31mSerialException\u001b[0m: could not open port 'COM4': FileNotFoundError(2, 'El sistema no puede encontrar el archivo especificado.', None, 2)"
     ]
    }
   ],
   "source": [
    "arduino.open()"
   ]
  },
  {
   "cell_type": "markdown",
   "metadata": {},
   "source": [
    "## Propiedades del objeto serial `arduino`"
   ]
  },
  {
   "cell_type": "code",
   "execution_count": 106,
   "metadata": {},
   "outputs": [
    {
     "data": {
      "text/plain": [
       "'COM4'"
      ]
     },
     "execution_count": 106,
     "metadata": {},
     "output_type": "execute_result"
    }
   ],
   "source": [
    "arduino.port"
   ]
  },
  {
   "cell_type": "code",
   "execution_count": 107,
   "metadata": {},
   "outputs": [
    {
     "data": {
      "text/plain": [
       "9600"
      ]
     },
     "execution_count": 107,
     "metadata": {},
     "output_type": "execute_result"
    }
   ],
   "source": [
    "arduino.baudrate"
   ]
  },
  {
   "cell_type": "code",
   "execution_count": 141,
   "metadata": {},
   "outputs": [
    {
     "data": {
      "text/plain": [
       "'COM4'"
      ]
     },
     "execution_count": 141,
     "metadata": {},
     "output_type": "execute_result"
    }
   ],
   "source": [
    "arduino.name"
   ]
  },
  {
   "cell_type": "code",
   "execution_count": 132,
   "metadata": {},
   "outputs": [
    {
     "data": {
      "text/plain": [
       "False"
      ]
     },
     "execution_count": 132,
     "metadata": {},
     "output_type": "execute_result"
    }
   ],
   "source": [
    "arduino.is_open"
   ]
  },
  {
   "cell_type": "code",
   "execution_count": 127,
   "metadata": {},
   "outputs": [
    {
     "name": "stdout",
     "output_type": "stream",
     "text": [
      "670.0\n",
      "669.0\n",
      "669.0\n",
      "670.0\n",
      "670.0\n",
      "670.0\n",
      "670.0\n",
      "670.0\n",
      "670.0\n",
      "669.0\n",
      "669.0\n",
      "670.0\n",
      "669.0\n",
      "670.0\n",
      "670.0\n",
      "670.0\n",
      "669.0\n",
      "Streaming terminado\n"
     ]
    }
   ],
   "source": [
    "if arduino.is_open == False:\n",
    "    arduino.open()\n",
    "else:\n",
    "    while True:\n",
    "        try:\n",
    "            arduino.flushInput()\n",
    "            b = arduino.readline() # Leemos los datos\n",
    "            b = b.rstrip().decode() # Quitamos los \\r\\n y lo conertimos a tipo string\n",
    "            b = float(b) # Lo convertimos a tipo flotante\n",
    "            #     time.sleep(5)\n",
    "            print(b)\n",
    "        except:\n",
    "            print(\"Streaming terminado\")\n",
    "#             arduino.close()\n",
    "            break"
   ]
  },
  {
   "cell_type": "markdown",
   "metadata": {},
   "source": [
    "## Graficar los datos"
   ]
  },
  {
   "cell_type": "markdown",
   "metadata": {},
   "source": [
    "Hasta ahora hemos leido los datos disponibles en el buffer serial, los cuales ya no están disponibles una vez que han sido leidos. Para graficar los datos adquiridos es conveniente guardarlos en una variable para su posterior manipulación. Para ello haremos uso de las funciones de `matplotlib`. Creamos la variable que almacenará los datos:"
   ]
  },
  {
   "cell_type": "code",
   "execution_count": 137,
   "metadata": {},
   "outputs": [],
   "source": [
    "arduino.close()"
   ]
  },
  {
   "cell_type": "code",
   "execution_count": null,
   "metadata": {
    "hide_input": true
   },
   "outputs": [],
   "source": [
    "#  objeto serial ( puerto , baudios )\n",
    "# arduino = ser.Serial('COM4', 9600)\n",
    "# arduino.flushInput() # Para limpar el buffer de entrada del puerto serie\n",
    "# time.sleep(2) # Hacemos una pausa de 2 segundos\n",
    "# datos = [] # Lista vacía\n",
    "\n",
    "# while True:\n",
    "#     ser_bytes = arduino.readline()\n",
    "#     decoded_bytes = float(ser_bytes[0:len(ser_bytes)-2].decode(\"utf-8\"))\n",
    "#     print(decoded_bytes)\n",
    "#     except:\n",
    "#         print(\"Keyboard Interrupt\")\n",
    "#         break\n",
    "    \n",
    "# arduino.close()"
   ]
  },
  {
   "cell_type": "code",
   "execution_count": null,
   "metadata": {},
   "outputs": [],
   "source": [
    "# %matplotlib inline\n",
    "# plt.plot(data)\n",
    "# plt.xlabel('Time (seconds)')\n",
    "# plt.ylabel('Potentiometer Reading')\n",
    "# plt.title('Potentiometer Reading vs. Time')\n",
    "# plt.show()"
   ]
  },
  {
   "cell_type": "code",
   "execution_count": 76,
   "metadata": {},
   "outputs": [
    {
     "name": "stdout",
     "output_type": "stream",
     "text": [
      "Python implementation: CPython\n",
      "Python version       : 3.7.4\n",
      "IPython version      : 7.8.0\n",
      "\n",
      "serial    : 3.5\n",
      "matplotlib: 3.1.1\n",
      "jupyter   : 1.0.0\n",
      "conda     : 4.10.3\n",
      "pip       : 19.2.3\n",
      "\n"
     ]
    }
   ],
   "source": [
    "%load_ext watermark\n",
    "%watermark -v -p serial,matplotlib,jupyter,conda,pip"
   ]
  },
  {
   "cell_type": "code",
   "execution_count": null,
   "metadata": {},
   "outputs": [],
   "source": []
  },
  {
   "cell_type": "code",
   "execution_count": null,
   "metadata": {},
   "outputs": [],
   "source": []
  }
 ],
 "metadata": {
  "kernelspec": {
   "display_name": "Python 3",
   "language": "python",
   "name": "python3"
  },
  "language_info": {
   "codemirror_mode": {
    "name": "ipython",
    "version": 3
   },
   "file_extension": ".py",
   "mimetype": "text/x-python",
   "name": "python",
   "nbconvert_exporter": "python",
   "pygments_lexer": "ipython3",
   "version": "3.7.4"
  },
  "toc": {
   "base_numbering": "1",
   "nav_menu": {},
   "number_sections": true,
   "sideBar": true,
   "skip_h1_title": true,
   "title_cell": "Contenido",
   "title_sidebar": "Contents",
   "toc_cell": true,
   "toc_position": {},
   "toc_section_display": true,
   "toc_window_display": true
  }
 },
 "nbformat": 4,
 "nbformat_minor": 2
}
