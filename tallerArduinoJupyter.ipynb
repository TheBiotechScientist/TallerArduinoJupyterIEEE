{
 "cells": [
  {
   "cell_type": "markdown",
   "metadata": {
    "toc": true
   },
   "source": [
    "<h1>Contenido<span class=\"tocSkip\"></span></h1>\n",
    "<div class=\"toc\"><ul class=\"toc-item\"><li><span><a href=\"#Conexión-Serial-con-Python\" data-toc-modified-id=\"Conexión-Serial-con-Python-1\"><span class=\"toc-item-num\">1&nbsp;&nbsp;</span>Conexión Serial con Python</a></span></li><li><span><a href=\"#Lectura-de-datos-por-puerto-serie\" data-toc-modified-id=\"Lectura-de-datos-por-puerto-serie-2\"><span class=\"toc-item-num\">2&nbsp;&nbsp;</span>Lectura de datos por puerto serie</a></span></li><li><span><a href=\"#Lectura-de-datos-con-ciclo-For\" data-toc-modified-id=\"Lectura-de-datos-con-ciclo-For-3\"><span class=\"toc-item-num\">3&nbsp;&nbsp;</span>Lectura de datos con ciclo <code>For</code></a></span></li><li><span><a href=\"#Lectura-de-datos-con-ciclo-While\" data-toc-modified-id=\"Lectura-de-datos-con-ciclo-While-4\"><span class=\"toc-item-num\">4&nbsp;&nbsp;</span>Lectura de datos con ciclo <code>While</code></a></span></li><li><span><a href=\"#open()-&amp;-close().-Abriendo-y-cerrando-el-puerto-serial\" data-toc-modified-id=\"open()-&amp;-close().-Abriendo-y-cerrando-el-puerto-serial-5\"><span class=\"toc-item-num\">5&nbsp;&nbsp;</span><code>open()</code> &amp; <code>close()</code>. Abriendo y cerrando el puerto serial</a></span></li><li><span><a href=\"#Propiedades-del-objeto-serial-arduino\" data-toc-modified-id=\"Propiedades-del-objeto-serial-arduino-6\"><span class=\"toc-item-num\">6&nbsp;&nbsp;</span>Propiedades del objeto serial <code>arduino</code></a></span></li><li><span><a href=\"#Graficar-los-datos\" data-toc-modified-id=\"Graficar-los-datos-7\"><span class=\"toc-item-num\">7&nbsp;&nbsp;</span>Graficar los datos</a></span></li><li><span><a href=\"#Grafica-en-&quot;tiempo-real&quot;\" data-toc-modified-id=\"Grafica-en-&quot;tiempo-real&quot;-8\"><span class=\"toc-item-num\">8&nbsp;&nbsp;</span>Grafica en \"<em>tiempo real</em>\"</a></span></li></ul></div>"
   ]
  },
  {
   "cell_type": "markdown",
   "metadata": {},
   "source": [
    "# Taller: Adquisición de Datos con Arduino y Jupyter"
   ]
  },
  {
   "cell_type": "markdown",
   "metadata": {},
   "source": [
    "## Conexión Serial con Python"
   ]
  },
  {
   "cell_type": "markdown",
   "metadata": {},
   "source": [
    "En esta sección veremos los fundamentos de Python para una conexión serial con Arduino, las librerías y los comandos necesarios para leer el puerto serie."
   ]
  },
  {
   "cell_type": "markdown",
   "metadata": {},
   "source": [
    "Primero importamos las librerias necesarias:"
   ]
  },
  {
   "cell_type": "code",
   "execution_count": 63,
   "metadata": {},
   "outputs": [],
   "source": [
    "%matplotlib notebook\n",
    "%matplotlib notebook\n",
    "\n",
    "import serial as ser# Para la conexión serial\n",
    "import time # Para dar una pausa a la lectura serial\n",
    "import matplotlib.pyplot as plt # Para graficar los datos\n",
    "from matplotlib import style\n",
    "import numpy as np # Para la manipulación de arrays y datos\n",
    "from matplotlib.animation import FuncAnimation"
   ]
  },
  {
   "cell_type": "markdown",
   "metadata": {},
   "source": [
    "Creamos el objeto `arduino` que inicializa (abre) el puerto serie donde está conectado nuestro Arduino. A este objeto le pasamos los parámetros del puerto `COM`, los `baudios` y el `tiempo de espera` (si es necesario) con el siguiente comando:"
   ]
  },
  {
   "cell_type": "code",
   "execution_count": 64,
   "metadata": {},
   "outputs": [],
   "source": [
    "#  objeto serial ( puerto , baudios)\n",
    "arduino = ser.Serial('COM4', 9600)\n",
    "arduino.flushInput() # Para limpar el buffer de entrada del puerto serie\n",
    "time.sleep(2) # Hacemos una pausa de 2 segundos"
   ]
  },
  {
   "cell_type": "markdown",
   "metadata": {},
   "source": [
    "## Lectura de datos por puerto serie"
   ]
  },
  {
   "cell_type": "markdown",
   "metadata": {},
   "source": [
    "La información que se transmite por el bus serial está empaquetada en bytes. Para leer una serie de bytes utilizamos el método `readline(parametro)`, donde parámetro es el numero (en entero) de bytes a leer. Por defecto lee hasta agotar el tiempo de espera entre paquetes de información. Creamos entonces una vairable que lee una cadena de bytes:"
   ]
  },
  {
   "cell_type": "code",
   "execution_count": 3,
   "metadata": {},
   "outputs": [
    {
     "name": "stdout",
     "output_type": "stream",
     "text": [
      "b'491\\r\\n'\n"
     ]
    }
   ],
   "source": [
    "# cadena de bytes\n",
    "b = arduino.readline() # Lee una linea de bytes de información\n",
    "print(b) # Imprime el contenido de la variable b"
   ]
  },
  {
   "cell_type": "markdown",
   "metadata": {},
   "source": [
    "Ya que el buffer serial está almacenando los bytes que envía el Arduino cada segundo, tendríamos que hacer tantas lecturas del puerto como datos hay en el buffer. Por lo tanto, para tener el último dato que envía el Arduino, no podríamos dejar pasar ninguna lectura. Esto se podría resolver limpiando el buffer antes de hacer una lectura con el método `flushInput()` del objeto serial:"
   ]
  },
  {
   "cell_type": "code",
   "execution_count": 4,
   "metadata": {
    "scrolled": false
   },
   "outputs": [
    {
     "name": "stdout",
     "output_type": "stream",
     "text": [
      "b'684\\r\\n'\n"
     ]
    }
   ],
   "source": [
    "# cadenade bytes\n",
    "arduino.flushInput() # Limpia el buffer de datos del puerto serie\n",
    "b = arduino.readline()\n",
    "print(b)"
   ]
  },
  {
   "cell_type": "markdown",
   "metadata": {},
   "source": [
    "\n",
    "Como podemos observar, la cadena de bytes inicia con un caracter `b` que indica que se trata de bytes de información, seguido de la información que contienen esos bytes (`'612\\r\\n'` ). `\\r` es el byte para el *carrier return* y `\\n` es para una *nueva linea*. Todo está entre comillas sencillas representando una cadena de caracteres. Podemos comprobar el tipo de variable de `b` con el siguiente comando:"
   ]
  },
  {
   "cell_type": "code",
   "execution_count": 4,
   "metadata": {},
   "outputs": [
    {
     "data": {
      "text/plain": [
       "bytes"
      ]
     },
     "execution_count": 4,
     "metadata": {},
     "output_type": "execute_result"
    }
   ],
   "source": [
    "type(b) # Muestra el tipo de dato de una variable"
   ]
  },
  {
   "cell_type": "markdown",
   "metadata": {},
   "source": [
    "Y observamos que efectivamente es de tipo Byte. Para poderlo convertir a número es necesario primero convertilo a tipo caracter. Para ello le quitaremos el carrier return y el salto de linea con el método `rstrip()`:"
   ]
  },
  {
   "cell_type": "code",
   "execution_count": 5,
   "metadata": {},
   "outputs": [
    {
     "name": "stdout",
     "output_type": "stream",
     "text": [
      "b'491'\n"
     ]
    }
   ],
   "source": [
    "b = b.rstrip()\n",
    "print(b)"
   ]
  },
  {
   "cell_type": "markdown",
   "metadata": {},
   "source": [
    "Para convertir ahora a caracter utilizamos el método `decode()`:"
   ]
  },
  {
   "cell_type": "code",
   "execution_count": 6,
   "metadata": {},
   "outputs": [
    {
     "data": {
      "text/plain": [
       "'491'"
      ]
     },
     "execution_count": 6,
     "metadata": {},
     "output_type": "execute_result"
    }
   ],
   "source": [
    "b = b.decode() # Acepta como parámetros el tipo de codificación (p.e. 'utf-8') y opción para ignorar errores 'ignore'\n",
    "b"
   ]
  },
  {
   "cell_type": "markdown",
   "metadata": {},
   "source": [
    "Si comprobamos de nuevo:"
   ]
  },
  {
   "cell_type": "code",
   "execution_count": 7,
   "metadata": {},
   "outputs": [
    {
     "data": {
      "text/plain": [
       "str"
      ]
     },
     "execution_count": 7,
     "metadata": {},
     "output_type": "execute_result"
    }
   ],
   "source": [
    "type(b)"
   ]
  },
  {
   "cell_type": "markdown",
   "metadata": {},
   "source": [
    "Ahora es de tipo *string* (cadena de caracteres). Sin embargo, con este tipo de dato no se pueden hacer operaciones numéricas. Para convertirlo a un valor numérico, podemos usar las funciones `int()` o `float()`."
   ]
  },
  {
   "cell_type": "code",
   "execution_count": 8,
   "metadata": {},
   "outputs": [
    {
     "name": "stdout",
     "output_type": "stream",
     "text": [
      "491.0\n"
     ]
    },
    {
     "data": {
      "text/plain": [
       "float"
      ]
     },
     "execution_count": 8,
     "metadata": {},
     "output_type": "execute_result"
    }
   ],
   "source": [
    "b = float(b)\n",
    "print(b)\n",
    "type(b)"
   ]
  },
  {
   "cell_type": "markdown",
   "metadata": {},
   "source": [
    "## Lectura de datos con ciclo `For`"
   ]
  },
  {
   "cell_type": "markdown",
   "metadata": {},
   "source": [
    "Con el siguiente ciclo `for` podemos leer tantos datos como queramos del puerto serie. Esta forma la llamaremos ***en demanda*** y se usaría cuando sabemos cuantos datos queremos y cada cuanto tiempo."
   ]
  },
  {
   "cell_type": "code",
   "execution_count": 10,
   "metadata": {},
   "outputs": [
    {
     "name": "stdout",
     "output_type": "stream",
     "text": [
      "684.0\n",
      "684.0\n",
      "684.0\n",
      "684.0\n",
      "685.0\n"
     ]
    }
   ],
   "source": [
    "# Rango de 0 a 5\n",
    "for i in range(5):\n",
    "    arduino.flushInput()\n",
    "    b = arduino.readline() # Leemos los datos\n",
    "    b = b.rstrip().decode() # Quitamos los \\r\\n y lo conertimos a tipo string\n",
    "    b = float(b) # Lo convertimos a tipo flotante\n",
    "#     time.sleep(5)\n",
    "    print(b)"
   ]
  },
  {
   "cell_type": "markdown",
   "metadata": {},
   "source": [
    "## Lectura de datos con ciclo `While`"
   ]
  },
  {
   "cell_type": "markdown",
   "metadata": {},
   "source": [
    "Cuando no sabes cuantos datos queremos leer, entonces estariamos haciendo un ***streming*** de datos, esto es, adquirir datos continuamente hasta que el usuario (o un evento) termina la comunicación. Esto se pude hacer con un ciclo `while`."
   ]
  },
  {
   "cell_type": "code",
   "execution_count": 9,
   "metadata": {},
   "outputs": [
    {
     "name": "stdout",
     "output_type": "stream",
     "text": [
      "490.0\n",
      "490.0\n",
      "491.0\n",
      "490.0\n",
      "490.0\n",
      "490.0\n",
      "490.0\n",
      "490.0\n",
      "490.0\n"
     ]
    },
    {
     "ename": "KeyboardInterrupt",
     "evalue": "",
     "output_type": "error",
     "traceback": [
      "\u001b[1;31m---------------------------------------------------------------------------\u001b[0m",
      "\u001b[1;31mKeyboardInterrupt\u001b[0m                         Traceback (most recent call last)",
      "\u001b[1;32m<ipython-input-9-d9912b380cbb>\u001b[0m in \u001b[0;36m<module>\u001b[1;34m\u001b[0m\n\u001b[0;32m      1\u001b[0m \u001b[1;32mwhile\u001b[0m \u001b[1;32mTrue\u001b[0m\u001b[1;33m:\u001b[0m\u001b[1;33m\u001b[0m\u001b[1;33m\u001b[0m\u001b[0m\n\u001b[0;32m      2\u001b[0m     \u001b[0marduino\u001b[0m\u001b[1;33m.\u001b[0m\u001b[0mflushInput\u001b[0m\u001b[1;33m(\u001b[0m\u001b[1;33m)\u001b[0m\u001b[1;33m\u001b[0m\u001b[1;33m\u001b[0m\u001b[0m\n\u001b[1;32m----> 3\u001b[1;33m     \u001b[0mb\u001b[0m \u001b[1;33m=\u001b[0m \u001b[0marduino\u001b[0m\u001b[1;33m.\u001b[0m\u001b[0mreadline\u001b[0m\u001b[1;33m(\u001b[0m\u001b[1;33m)\u001b[0m \u001b[1;31m# Leemos los datos\u001b[0m\u001b[1;33m\u001b[0m\u001b[1;33m\u001b[0m\u001b[0m\n\u001b[0m\u001b[0;32m      4\u001b[0m     \u001b[0mb\u001b[0m \u001b[1;33m=\u001b[0m \u001b[0mb\u001b[0m\u001b[1;33m.\u001b[0m\u001b[0mrstrip\u001b[0m\u001b[1;33m(\u001b[0m\u001b[1;33m)\u001b[0m\u001b[1;33m.\u001b[0m\u001b[0mdecode\u001b[0m\u001b[1;33m(\u001b[0m\u001b[1;33m)\u001b[0m \u001b[1;31m# Quitamos los \\r\\n y lo conertimos a tipo string\u001b[0m\u001b[1;33m\u001b[0m\u001b[1;33m\u001b[0m\u001b[0m\n\u001b[0;32m      5\u001b[0m     \u001b[0mb\u001b[0m \u001b[1;33m=\u001b[0m \u001b[0mfloat\u001b[0m\u001b[1;33m(\u001b[0m\u001b[0mb\u001b[0m\u001b[1;33m)\u001b[0m \u001b[1;31m# Lo convertimos a tipo flotante\u001b[0m\u001b[1;33m\u001b[0m\u001b[1;33m\u001b[0m\u001b[0m\n",
      "\u001b[1;32mC:\\Anaconda3\\lib\\site-packages\\serial\\serialwin32.py\u001b[0m in \u001b[0;36mread\u001b[1;34m(self, size)\u001b[0m\n\u001b[0;32m    290\u001b[0m                     \u001b[0mctypes\u001b[0m\u001b[1;33m.\u001b[0m\u001b[0mbyref\u001b[0m\u001b[1;33m(\u001b[0m\u001b[0mself\u001b[0m\u001b[1;33m.\u001b[0m\u001b[0m_overlapped_read\u001b[0m\u001b[1;33m)\u001b[0m\u001b[1;33m,\u001b[0m\u001b[1;33m\u001b[0m\u001b[1;33m\u001b[0m\u001b[0m\n\u001b[0;32m    291\u001b[0m                     \u001b[0mctypes\u001b[0m\u001b[1;33m.\u001b[0m\u001b[0mbyref\u001b[0m\u001b[1;33m(\u001b[0m\u001b[0mrc\u001b[0m\u001b[1;33m)\u001b[0m\u001b[1;33m,\u001b[0m\u001b[1;33m\u001b[0m\u001b[1;33m\u001b[0m\u001b[0m\n\u001b[1;32m--> 292\u001b[1;33m                     True)\n\u001b[0m\u001b[0;32m    293\u001b[0m                 \u001b[1;32mif\u001b[0m \u001b[1;32mnot\u001b[0m \u001b[0mresult_ok\u001b[0m\u001b[1;33m:\u001b[0m\u001b[1;33m\u001b[0m\u001b[1;33m\u001b[0m\u001b[0m\n\u001b[0;32m    294\u001b[0m                     \u001b[1;32mif\u001b[0m \u001b[0mwin32\u001b[0m\u001b[1;33m.\u001b[0m\u001b[0mGetLastError\u001b[0m\u001b[1;33m(\u001b[0m\u001b[1;33m)\u001b[0m \u001b[1;33m!=\u001b[0m \u001b[0mwin32\u001b[0m\u001b[1;33m.\u001b[0m\u001b[0mERROR_OPERATION_ABORTED\u001b[0m\u001b[1;33m:\u001b[0m\u001b[1;33m\u001b[0m\u001b[1;33m\u001b[0m\u001b[0m\n",
      "\u001b[1;31mKeyboardInterrupt\u001b[0m: "
     ]
    }
   ],
   "source": [
    "while True:\n",
    "    arduino.flushInput()\n",
    "    b = arduino.readline() # Leemos los datos\n",
    "    b = b.rstrip().decode() # Quitamos los \\r\\n y lo conertimos a tipo string\n",
    "    b = float(b) # Lo convertimos a tipo flotante\n",
    "    #     time.sleep(5)\n",
    "    print(b)"
   ]
  },
  {
   "cell_type": "code",
   "execution_count": 10,
   "metadata": {
    "scrolled": true
   },
   "outputs": [
    {
     "name": "stdout",
     "output_type": "stream",
     "text": [
      "491.0\n",
      "490.0\n",
      "490.0\n",
      "491.0\n",
      "490.0\n",
      "490.0\n",
      "490.0\n",
      "490.0\n",
      "490.0\n",
      "Streaming terminado\n"
     ]
    }
   ],
   "source": [
    "while True:\n",
    "    try:\n",
    "        arduino.flushInput()\n",
    "        b = arduino.readline() # Leemos los datos\n",
    "        b = b.rstrip().decode() # Quitamos los \\r\\n y lo conertimos a tipo string\n",
    "        b = float(b) # Lo convertimos a tipo flotante\n",
    "        #     time.sleep(5)\n",
    "        print(b)\n",
    "    except:\n",
    "        print(\"Streaming terminado\")\n",
    "        break"
   ]
  },
  {
   "cell_type": "markdown",
   "metadata": {},
   "source": [
    "## `open()` & `close()`. Abriendo y cerrando el puerto serial"
   ]
  },
  {
   "cell_type": "markdown",
   "metadata": {},
   "source": [
    "Hasta ahora hemos inicializado el puerto, pero no lo hemos cerrado. Una vez que el puerto serie ya no es necesario, porque se han leido todos los datos que queremos, es conveniente cerrarlo para terminar la comunicación y así liberar el espacio que ocupa el buffer en la memoria RAM, o vlverlo a abrir sin tener que volver a declarlo e iniciar la transferencia de datos. Esto lo logramos con las funciones `open()` y `close()`."
   ]
  },
  {
   "cell_type": "code",
   "execution_count": 11,
   "metadata": {},
   "outputs": [],
   "source": [
    "arduino.close() # Se ha cerrado el puerto serie COM4"
   ]
  },
  {
   "cell_type": "code",
   "execution_count": 12,
   "metadata": {},
   "outputs": [],
   "source": [
    "arduino.open()"
   ]
  },
  {
   "cell_type": "markdown",
   "metadata": {},
   "source": [
    "## Propiedades del objeto serial `arduino`"
   ]
  },
  {
   "cell_type": "code",
   "execution_count": 13,
   "metadata": {},
   "outputs": [
    {
     "data": {
      "text/plain": [
       "'COM4'"
      ]
     },
     "execution_count": 13,
     "metadata": {},
     "output_type": "execute_result"
    }
   ],
   "source": [
    "arduino.port"
   ]
  },
  {
   "cell_type": "code",
   "execution_count": 14,
   "metadata": {},
   "outputs": [
    {
     "data": {
      "text/plain": [
       "9600"
      ]
     },
     "execution_count": 14,
     "metadata": {},
     "output_type": "execute_result"
    }
   ],
   "source": [
    "arduino.baudrate"
   ]
  },
  {
   "cell_type": "code",
   "execution_count": 15,
   "metadata": {},
   "outputs": [
    {
     "data": {
      "text/plain": [
       "'COM4'"
      ]
     },
     "execution_count": 15,
     "metadata": {},
     "output_type": "execute_result"
    }
   ],
   "source": [
    "arduino.name"
   ]
  },
  {
   "cell_type": "code",
   "execution_count": 16,
   "metadata": {},
   "outputs": [
    {
     "data": {
      "text/plain": [
       "True"
      ]
     },
     "execution_count": 16,
     "metadata": {},
     "output_type": "execute_result"
    }
   ],
   "source": [
    "arduino.is_open"
   ]
  },
  {
   "cell_type": "code",
   "execution_count": 23,
   "metadata": {},
   "outputs": [
    {
     "name": "stdout",
     "output_type": "stream",
     "text": [
      "490.0\n",
      "490.0\n",
      "490.0\n",
      "490.0\n",
      "490.0\n",
      "490.0\n",
      "490.0\n",
      "490.0\n",
      "490.0\n",
      "490.0\n",
      "Streaming terminado\n"
     ]
    }
   ],
   "source": [
    "if arduino.is_open == False:\n",
    "    arduino.open()\n",
    "else:\n",
    "    while True:\n",
    "        try:\n",
    "            arduino.flushInput()\n",
    "            b = arduino.readline() # Leemos los datos\n",
    "            b = b.rstrip().decode() # Quitamos los \\r\\n y lo conertimos a tipo string\n",
    "            b = float(b) # Lo convertimos a tipo flotante\n",
    "            #     time.sleep(5)\n",
    "            print(b)\n",
    "        except:\n",
    "            print(\"Streaming terminado\")\n",
    "            # arduino.close()\n",
    "            break"
   ]
  },
  {
   "cell_type": "markdown",
   "metadata": {},
   "source": [
    "## Graficar los datos"
   ]
  },
  {
   "cell_type": "markdown",
   "metadata": {},
   "source": [
    "Hasta ahora hemos leido los datos disponibles en el buffer serial, los cuales ya no están disponibles una vez que han sido leidos. Para graficar los datos adquiridos es conveniente guardarlos en una variable para su posterior manipulación. Para ello haremos uso de las funciones de `matplotlib`. Creamos la variable que almacenará los datos:"
   ]
  },
  {
   "cell_type": "code",
   "execution_count": 54,
   "metadata": {},
   "outputs": [],
   "source": [
    "datos = []"
   ]
  },
  {
   "cell_type": "markdown",
   "metadata": {},
   "source": [
    "Para agregar los datos, conforme van siendo leídos, a esta variable, que es una lista, utilizaremos el método `append()`:"
   ]
  },
  {
   "cell_type": "code",
   "execution_count": 75,
   "metadata": {},
   "outputs": [
    {
     "name": "stdout",
     "output_type": "stream",
     "text": [
      "490.0\n",
      "490.0\n",
      "Streaming terminado\n"
     ]
    }
   ],
   "source": [
    "if arduino.is_open == False:\n",
    "    arduino.open()\n",
    "else:\n",
    "    while True:\n",
    "        try:\n",
    "            arduino.flushInput()\n",
    "            b = arduino.read_until() # Leemos los datos\n",
    "            b = b.rstrip().decode() # Quitamos los \\r\\n y lo conertimos a tipo string\n",
    "            b = float(b) # Lo convertimos a tipo flotante\n",
    "            #     time.sleep(5)\n",
    "            print(b)\n",
    "            datos.append(b) # Agregamos los datos a la lista\n",
    "        except:\n",
    "            print(\"Streaming terminado\")\n",
    "            # arduino.close()\n",
    "            break"
   ]
  },
  {
   "cell_type": "code",
   "execution_count": 21,
   "metadata": {},
   "outputs": [
    {
     "name": "stdout",
     "output_type": "stream",
     "text": [
      "[490.0, 490.0]\n"
     ]
    }
   ],
   "source": [
    "print(datos) # Mostramos el contenido de la lista 'datos'"
   ]
  },
  {
   "cell_type": "code",
   "execution_count": 22,
   "metadata": {},
   "outputs": [
    {
     "data": {
      "image/png": "[encoded data removed]",
      "text/plain": [
       "<Figure size 432x288 with 1 Axes>"
      ]
     },
     "metadata": {
      "needs_background": "light"
     },
     "output_type": "display_data"
    }
   ],
   "source": [
    "%matplotlib inline\n",
    "# fig, ax = plt.subplots()\n",
    "plt.plot(datos)\n",
    "plt.xlabel('Tiempo (segundos)')\n",
    "plt.ylabel('Lectura')\n",
    "plt.title('Potenciometro vs. Tiempo')\n",
    "plt.ylim([0,1023])\n",
    "plt.show()"
   ]
  },
  {
   "cell_type": "markdown",
   "metadata": {},
   "source": [
    "## Grafica en \"*tiempo real*\""
   ]
  },
  {
   "cell_type": "code",
   "execution_count": 59,
   "metadata": {},
   "outputs": [],
   "source": [
    "x = []\n",
    "datos = []"
   ]
  },
  {
   "cell_type": "code",
   "execution_count": 60,
   "metadata": {},
   "outputs": [
    {
     "data": {
      "application/javascript": [
       "/* Put everything inside the global mpl namespace */\n",
       "window.mpl = {};\n",
       "\n",
       "\n",
       "mpl.get_websocket_type = function() {\n",
       "    if (typeof(WebSocket) !== 'undefined') {\n",
       "        return WebSocket;\n",
       "    } else if (typeof(MozWebSocket) !== 'undefined') {\n",
       "        return MozWebSocket;\n",
       "    } else {\n",
       "        alert('Your browser does not have WebSocket support. ' +\n",
       "              'Please try Chrome, Safari or Firefox ≥ 6. ' +\n",
       "              'Firefox 4 and 5 are also supported but you ' +\n",
       "              'have to enable WebSockets in about:config.');\n",
       "    };\n",
       "}\n",
       "\n",
       "mpl.figure = function(figure_id, websocket, ondownload, parent_element) {\n",
       "    this.id = figure_id;\n",
       "\n",
       "    this.ws = websocket;\n",
       "\n",
       "    this.supports_binary = (this.ws.binaryType != undefined);\n",
       "\n",
       "    if (!this.supports_binary) {\n",
       "        var warnings = document.getElementById(\"mpl-warnings\");\n",
       "        if (warnings) {\n",
       "            warnings.style.display = 'block';\n",
       "            warnings.textContent = (\n",
       "                \"This browser does not support binary websocket messages. \" +\n",
       "                    \"Performance may be slow.\");\n",
       "        }\n",
       "    }\n",
       "\n",
       "    this.imageObj = new Image();\n",
       "\n",
       "    this.context = undefined;\n",
       "    this.message = undefined;\n",
       "    this.canvas = undefined;\n",
       "    this.rubberband_canvas = undefined;\n",
       "    this.rubberband_context = undefined;\n",
       "    this.format_dropdown = undefined;\n",
       "\n",
       "    this.image_mode = 'full';\n",
       "\n",
       "    this.root = $('<div/>');\n",
       "    this._root_extra_style(this.root)\n",
       "    this.root.attr('style', 'display: inline-block');\n",
       "\n",
       "    $(parent_element).append(this.root);\n",
       "\n",
       "    this._init_header(this);\n",
       "    this._init_canvas(this);\n",
       "    this._init_toolbar(this);\n",
       "\n",
       "    var fig = this;\n",
       "\n",
       "    this.waiting = false;\n",
       "\n",
       "    this.ws.onopen =  function () {\n",
       "            fig.send_message(\"supports_binary\", {value: fig.supports_binary});\n",
       "            fig.send_message(\"send_image_mode\", {});\n",
       "            if (mpl.ratio != 1) {\n",
       "                fig.send_message(\"set_dpi_ratio\", {'dpi_ratio': mpl.ratio});\n",
       "            }\n",
       "            fig.send_message(\"refresh\", {});\n",
       "        }\n",
       "\n",
       "    this.imageObj.onload = function() {\n",
       "            if (fig.image_mode == 'full') {\n",
       "                // Full images could contain transparency (where diff images\n",
       "                // almost always do), so we need to clear the canvas so that\n",
       "                // there is no ghosting.\n",
       "                fig.context.clearRect(0, 0, fig.canvas.width, fig.canvas.height);\n",
       "            }\n",
       "            fig.context.drawImage(fig.imageObj, 0, 0);\n",
       "        };\n",
       "\n",
       "    this.imageObj.onunload = function() {\n",
       "        fig.ws.close();\n",
       "    }\n",
       "\n",
       "    this.ws.onmessage = this._make_on_message_function(this);\n",
       "\n",
       "    this.ondownload = ondownload;\n",
       "}\n",
       "\n",
       "mpl.figure.prototype._init_header = function() {\n",
       "    var titlebar = $(\n",
       "        '<div class=\"ui-dialog-titlebar ui-widget-header ui-corner-all ' +\n",
       "        'ui-helper-clearfix\"/>');\n",
       "    var titletext = $(\n",
       "        '<div class=\"ui-dialog-title\" style=\"width: 100%; ' +\n",
       "        'text-align: center; padding: 3px;\"/>');\n",
       "    titlebar.append(titletext)\n",
       "    this.root.append(titlebar);\n",
       "    this.header = titletext[0];\n",
       "}\n",
       "\n",
       "\n",
       "\n",
       "mpl.figure.prototype._canvas_extra_style = function(canvas_div) {\n",
       "\n",
       "}\n",
       "\n",
       "\n",
       "mpl.figure.prototype._root_extra_style = function(canvas_div) {\n",
       "\n",
       "}\n",
       "\n",
       "mpl.figure.prototype._init_canvas = function() {\n",
       "    var fig = this;\n",
       "\n",
       "    var canvas_div = $('<div/>');\n",
       "\n",
       "    canvas_div.attr('style', 'position: relative; clear: both; outline: 0');\n",
       "\n",
       "    function canvas_keyboard_event(event) {\n",
       "        return fig.key_event(event, event['data']);\n",
       "    }\n",
       "\n",
       "    canvas_div.keydown('key_press', canvas_keyboard_event);\n",
       "    canvas_div.keyup('key_release', canvas_keyboard_event);\n",
       "    this.canvas_div = canvas_div\n",
       "    this._canvas_extra_style(canvas_div)\n",
       "    this.root.append(canvas_div);\n",
       "\n",
       "    var canvas = $('<canvas/>');\n",
       "    canvas.addClass('mpl-canvas');\n",
       "    canvas.attr('style', \"left: 0; top: 0; z-index: 0; outline: 0\")\n",
       "\n",
       "    this.canvas = canvas[0];\n",
       "    this.context = canvas[0].getContext(\"2d\");\n",
       "\n",
       "    var backingStore = this.context.backingStorePixelRatio ||\n",
       "\tthis.context.webkitBackingStorePixelRatio ||\n",
       "\tthis.context.mozBackingStorePixelRatio ||\n",
       "\tthis.context.msBackingStorePixelRatio ||\n",
       "\tthis.context.oBackingStorePixelRatio ||\n",
       "\tthis.context.backingStorePixelRatio || 1;\n",
       "\n",
       "    mpl.ratio = (window.devicePixelRatio || 1) / backingStore;\n",
       "\n",
       "    var rubberband = $('<canvas/>');\n",
       "    rubberband.attr('style', \"position: absolute; left: 0; top: 0; z-index: 1;\")\n",
       "\n",
       "    var pass_mouse_events = true;\n",
       "\n",
       "    canvas_div.resizable({\n",
       "        start: function(event, ui) {\n",
       "            pass_mouse_events = false;\n",
       "        },\n",
       "        resize: function(event, ui) {\n",
       "            fig.request_resize(ui.size.width, ui.size.height);\n",
       "        },\n",
       "        stop: function(event, ui) {\n",
       "            pass_mouse_events = true;\n",
       "            fig.request_resize(ui.size.width, ui.size.height);\n",
       "        },\n",
       "    });\n",
       "\n",
       "    function mouse_event_fn(event) {\n",
       "        if (pass_mouse_events)\n",
       "            return fig.mouse_event(event, event['data']);\n",
       "    }\n",
       "\n",
       "    rubberband.mousedown('button_press', mouse_event_fn);\n",
       "    rubberband.mouseup('button_release', mouse_event_fn);\n",
       "    // Throttle sequential mouse events to 1 every 20ms.\n",
       "    rubberband.mousemove('motion_notify', mouse_event_fn);\n",
       "\n",
       "    rubberband.mouseenter('figure_enter', mouse_event_fn);\n",
       "    rubberband.mouseleave('figure_leave', mouse_event_fn);\n",
       "\n",
       "    canvas_div.on(\"wheel\", function (event) {\n",
       "        event = event.originalEvent;\n",
       "        event['data'] = 'scroll'\n",
       "        if (event.deltaY < 0) {\n",
       "            event.step = 1;\n",
       "        } else {\n",
       "            event.step = -1;\n",
       "        }\n",
       "        mouse_event_fn(event);\n",
       "    });\n",
       "\n",
       "    canvas_div.append(canvas);\n",
       "    canvas_div.append(rubberband);\n",
       "\n",
       "    this.rubberband = rubberband;\n",
       "    this.rubberband_canvas = rubberband[0];\n",
       "    this.rubberband_context = rubberband[0].getContext(\"2d\");\n",
       "    this.rubberband_context.strokeStyle = \"#000000\";\n",
       "\n",
       "    this._resize_canvas = function(width, height) {\n",
       "        // Keep the size of the canvas, canvas container, and rubber band\n",
       "        // canvas in synch.\n",
       "        canvas_div.css('width', width)\n",
       "        canvas_div.css('height', height)\n",
       "\n",
       "        canvas.attr('width', width * mpl.ratio);\n",
       "        canvas.attr('height', height * mpl.ratio);\n",
       "        canvas.attr('style', 'width: ' + width + 'px; height: ' + height + 'px;');\n",
       "\n",
       "        rubberband.attr('width', width);\n",
       "        rubberband.attr('height', height);\n",
       "    }\n",
       "\n",
       "    // Set the figure to an initial 600x600px, this will subsequently be updated\n",
       "    // upon first draw.\n",
       "    this._resize_canvas(600, 600);\n",
       "\n",
       "    // Disable right mouse context menu.\n",
       "    $(this.rubberband_canvas).bind(\"contextmenu\",function(e){\n",
       "        return false;\n",
       "    });\n",
       "\n",
       "    function set_focus () {\n",
       "        canvas.focus();\n",
       "        canvas_div.focus();\n",
       "    }\n",
       "\n",
       "    window.setTimeout(set_focus, 100);\n",
       "}\n",
       "\n",
       "mpl.figure.prototype._init_toolbar = function() {\n",
       "    var fig = this;\n",
       "\n",
       "    var nav_element = $('<div/>');\n",
       "    nav_element.attr('style', 'width: 100%');\n",
       "    this.root.append(nav_element);\n",
       "\n",
       "    // Define a callback function for later on.\n",
       "    function toolbar_event(event) {\n",
       "        return fig.toolbar_button_onclick(event['data']);\n",
       "    }\n",
       "    function toolbar_mouse_event(event) {\n",
       "        return fig.toolbar_button_onmouseover(event['data']);\n",
       "    }\n",
       "\n",
       "    for(var toolbar_ind in mpl.toolbar_items) {\n",
       "        var name = mpl.toolbar_items[toolbar_ind][0];\n",
       "        var tooltip = mpl.toolbar_items[toolbar_ind][1];\n",
       "        var image = mpl.toolbar_items[toolbar_ind][2];\n",
       "        var method_name = mpl.toolbar_items[toolbar_ind][3];\n",
       "\n",
       "        if (!name) {\n",
       "            // put a spacer in here.\n",
       "            continue;\n",
       "        }\n",
       "        var button = $('<button/>');\n",
       "        button.addClass('ui-button ui-widget ui-state-default ui-corner-all ' +\n",
       "                        'ui-button-icon-only');\n",
       "        button.attr('role', 'button');\n",
       "        button.attr('aria-disabled', 'false');\n",
       "        button.click(method_name, toolbar_event);\n",
       "        button.mouseover(tooltip, toolbar_mouse_event);\n",
       "\n",
       "        var icon_img = $('<span/>');\n",
       "        icon_img.addClass('ui-button-icon-primary ui-icon');\n",
       "        icon_img.addClass(image);\n",
       "        icon_img.addClass('ui-corner-all');\n",
       "\n",
       "        var tooltip_span = $('<span/>');\n",
       "        tooltip_span.addClass('ui-button-text');\n",
       "        tooltip_span.html(tooltip);\n",
       "\n",
       "        button.append(icon_img);\n",
       "        button.append(tooltip_span);\n",
       "\n",
       "        nav_element.append(button);\n",
       "    }\n",
       "\n",
       "    var fmt_picker_span = $('<span/>');\n",
       "\n",
       "    var fmt_picker = $('<select/>');\n",
       "    fmt_picker.addClass('mpl-toolbar-option ui-widget ui-widget-content');\n",
       "    fmt_picker_span.append(fmt_picker);\n",
       "    nav_element.append(fmt_picker_span);\n",
       "    this.format_dropdown = fmt_picker[0];\n",
       "\n",
       "    for (var ind in mpl.extensions) {\n",
       "        var fmt = mpl.extensions[ind];\n",
       "        var option = $(\n",
       "            '<option/>', {selected: fmt === mpl.default_extension}).html(fmt);\n",
       "        fmt_picker.append(option);\n",
       "    }\n",
       "\n",
       "    // Add hover states to the ui-buttons\n",
       "    $( \".ui-button\" ).hover(\n",
       "        function() { $(this).addClass(\"ui-state-hover\");},\n",
       "        function() { $(this).removeClass(\"ui-state-hover\");}\n",
       "    );\n",
       "\n",
       "    var status_bar = $('<span class=\"mpl-message\"/>');\n",
       "    nav_element.append(status_bar);\n",
       "    this.message = status_bar[0];\n",
       "}\n",
       "\n",
       "mpl.figure.prototype.request_resize = function(x_pixels, y_pixels) {\n",
       "    // Request matplotlib to resize the figure. Matplotlib will then trigger a resize in the client,\n",
       "    // which will in turn request a refresh of the image.\n",
       "    this.send_message('resize', {'width': x_pixels, 'height': y_pixels});\n",
       "}\n",
       "\n",
       "mpl.figure.prototype.send_message = function(type, properties) {\n",
       "    properties['type'] = type;\n",
       "    properties['figure_id'] = this.id;\n",
       "    this.ws.send(JSON.stringify(properties));\n",
       "}\n",
       "\n",
       "mpl.figure.prototype.send_draw_message = function() {\n",
       "    if (!this.waiting) {\n",
       "        this.waiting = true;\n",
       "        this.ws.send(JSON.stringify({type: \"draw\", figure_id: this.id}));\n",
       "    }\n",
       "}\n",
       "\n",
       "\n",
       "mpl.figure.prototype.handle_save = function(fig, msg) {\n",
       "    var format_dropdown = fig.format_dropdown;\n",
       "    var format = format_dropdown.options[format_dropdown.selectedIndex].value;\n",
       "    fig.ondownload(fig, format);\n",
       "}\n",
       "\n",
       "\n",
       "mpl.figure.prototype.handle_resize = function(fig, msg) {\n",
       "    var size = msg['size'];\n",
       "    if (size[0] != fig.canvas.width || size[1] != fig.canvas.height) {\n",
       "        fig._resize_canvas(size[0], size[1]);\n",
       "        fig.send_message(\"refresh\", {});\n",
       "    };\n",
       "}\n",
       "\n",
       "mpl.figure.prototype.handle_rubberband = function(fig, msg) {\n",
       "    var x0 = msg['x0'] / mpl.ratio;\n",
       "    var y0 = (fig.canvas.height - msg['y0']) / mpl.ratio;\n",
       "    var x1 = msg['x1'] / mpl.ratio;\n",
       "    var y1 = (fig.canvas.height - msg['y1']) / mpl.ratio;\n",
       "    x0 = Math.floor(x0) + 0.5;\n",
       "    y0 = Math.floor(y0) + 0.5;\n",
       "    x1 = Math.floor(x1) + 0.5;\n",
       "    y1 = Math.floor(y1) + 0.5;\n",
       "    var min_x = Math.min(x0, x1);\n",
       "    var min_y = Math.min(y0, y1);\n",
       "    var width = Math.abs(x1 - x0);\n",
       "    var height = Math.abs(y1 - y0);\n",
       "\n",
       "    fig.rubberband_context.clearRect(\n",
       "        0, 0, fig.canvas.width / mpl.ratio, fig.canvas.height / mpl.ratio);\n",
       "\n",
       "    fig.rubberband_context.strokeRect(min_x, min_y, width, height);\n",
       "}\n",
       "\n",
       "mpl.figure.prototype.handle_figure_label = function(fig, msg) {\n",
       "    // Updates the figure title.\n",
       "    fig.header.textContent = msg['label'];\n",
       "}\n",
       "\n",
       "mpl.figure.prototype.handle_cursor = function(fig, msg) {\n",
       "    var cursor = msg['cursor'];\n",
       "    switch(cursor)\n",
       "    {\n",
       "    case 0:\n",
       "        cursor = 'pointer';\n",
       "        break;\n",
       "    case 1:\n",
       "        cursor = 'default';\n",
       "        break;\n",
       "    case 2:\n",
       "        cursor = 'crosshair';\n",
       "        break;\n",
       "    case 3:\n",
       "        cursor = 'move';\n",
       "        break;\n",
       "    }\n",
       "    fig.rubberband_canvas.style.cursor = cursor;\n",
       "}\n",
       "\n",
       "mpl.figure.prototype.handle_message = function(fig, msg) {\n",
       "    fig.message.textContent = msg['message'];\n",
       "}\n",
       "\n",
       "mpl.figure.prototype.handle_draw = function(fig, msg) {\n",
       "    // Request the server to send over a new figure.\n",
       "    fig.send_draw_message();\n",
       "}\n",
       "\n",
       "mpl.figure.prototype.handle_image_mode = function(fig, msg) {\n",
       "    fig.image_mode = msg['mode'];\n",
       "}\n",
       "\n",
       "mpl.figure.prototype.updated_canvas_event = function() {\n",
       "    // Called whenever the canvas gets updated.\n",
       "    this.send_message(\"ack\", {});\n",
       "}\n",
       "\n",
       "// A function to construct a web socket function for onmessage handling.\n",
       "// Called in the figure constructor.\n",
       "mpl.figure.prototype._make_on_message_function = function(fig) {\n",
       "    return function socket_on_message(evt) {\n",
       "        if (evt.data instanceof Blob) {\n",
       "            /* FIXME: We get \"Resource interpreted as Image but\n",
       "             * transferred with MIME type text/plain:\" errors on\n",
       "             * Chrome.  But how to set the MIME type?  It doesn't seem\n",
       "             * to be part of the websocket stream */\n",
       "            evt.data.type = \"image/png\";\n",
       "\n",
       "            /* Free the memory for the previous frames */\n",
       "            if (fig.imageObj.src) {\n",
       "                (window.URL || window.webkitURL).revokeObjectURL(\n",
       "                    fig.imageObj.src);\n",
       "            }\n",
       "\n",
       "            fig.imageObj.src = (window.URL || window.webkitURL).createObjectURL(\n",
       "                evt.data);\n",
       "            fig.updated_canvas_event();\n",
       "            fig.waiting = false;\n",
       "            return;\n",
       "        }\n",
       "        else if (typeof evt.data === 'string' && evt.data.slice(0, 21) == \"data:image/png;base64\") {\n",
       "            fig.imageObj.src = evt.data;\n",
       "            fig.updated_canvas_event();\n",
       "            fig.waiting = false;\n",
       "            return;\n",
       "        }\n",
       "\n",
       "        var msg = JSON.parse(evt.data);\n",
       "        var msg_type = msg['type'];\n",
       "\n",
       "        // Call the  \"handle_{type}\" callback, which takes\n",
       "        // the figure and JSON message as its only arguments.\n",
       "        try {\n",
       "            var callback = fig[\"handle_\" + msg_type];\n",
       "        } catch (e) {\n",
       "            console.log(\"No handler for the '\" + msg_type + \"' message type: \", msg);\n",
       "            return;\n",
       "        }\n",
       "\n",
       "        if (callback) {\n",
       "            try {\n",
       "                // console.log(\"Handling '\" + msg_type + \"' message: \", msg);\n",
       "                callback(fig, msg);\n",
       "            } catch (e) {\n",
       "                console.log(\"Exception inside the 'handler_\" + msg_type + \"' callback:\", e, e.stack, msg);\n",
       "            }\n",
       "        }\n",
       "    };\n",
       "}\n",
       "\n",
       "// from http://stackoverflow.com/questions/1114465/getting-mouse-location-in-canvas\n",
       "mpl.findpos = function(e) {\n",
       "    //this section is from http://www.quirksmode.org/js/events_properties.html\n",
       "    var targ;\n",
       "    if (!e)\n",
       "        e = window.event;\n",
       "    if (e.target)\n",
       "        targ = e.target;\n",
       "    else if (e.srcElement)\n",
       "        targ = e.srcElement;\n",
       "    if (targ.nodeType == 3) // defeat Safari bug\n",
       "        targ = targ.parentNode;\n",
       "\n",
       "    // jQuery normalizes the pageX and pageY\n",
       "    // pageX,Y are the mouse positions relative to the document\n",
       "    // offset() returns the position of the element relative to the document\n",
       "    var x = e.pageX - $(targ).offset().left;\n",
       "    var y = e.pageY - $(targ).offset().top;\n",
       "\n",
       "    return {\"x\": x, \"y\": y};\n",
       "};\n",
       "\n",
       "/*\n",
       " * return a copy of an object with only non-object keys\n",
       " * we need this to avoid circular references\n",
       " * http://stackoverflow.com/a/24161582/3208463\n",
       " */\n",
       "function simpleKeys (original) {\n",
       "  return Object.keys(original).reduce(function (obj, key) {\n",
       "    if (typeof original[key] !== 'object')\n",
       "        obj[key] = original[key]\n",
       "    return obj;\n",
       "  }, {});\n",
       "}\n",
       "\n",
       "mpl.figure.prototype.mouse_event = function(event, name) {\n",
       "    var canvas_pos = mpl.findpos(event)\n",
       "\n",
       "    if (name === 'button_press')\n",
       "    {\n",
       "        this.canvas.focus();\n",
       "        this.canvas_div.focus();\n",
       "    }\n",
       "\n",
       "    var x = canvas_pos.x * mpl.ratio;\n",
       "    var y = canvas_pos.y * mpl.ratio;\n",
       "\n",
       "    this.send_message(name, {x: x, y: y, button: event.button,\n",
       "                             step: event.step,\n",
       "                             guiEvent: simpleKeys(event)});\n",
       "\n",
       "    /* This prevents the web browser from automatically changing to\n",
       "     * the text insertion cursor when the button is pressed.  We want\n",
       "     * to control all of the cursor setting manually through the\n",
       "     * 'cursor' event from matplotlib */\n",
       "    event.preventDefault();\n",
       "    return false;\n",
       "}\n",
       "\n",
       "mpl.figure.prototype._key_event_extra = function(event, name) {\n",
       "    // Handle any extra behaviour associated with a key event\n",
       "}\n",
       "\n",
       "mpl.figure.prototype.key_event = function(event, name) {\n",
       "\n",
       "    // Prevent repeat events\n",
       "    if (name == 'key_press')\n",
       "    {\n",
       "        if (event.which === this._key)\n",
       "            return;\n",
       "        else\n",
       "            this._key = event.which;\n",
       "    }\n",
       "    if (name == 'key_release')\n",
       "        this._key = null;\n",
       "\n",
       "    var value = '';\n",
       "    if (event.ctrlKey && event.which != 17)\n",
       "        value += \"ctrl+\";\n",
       "    if (event.altKey && event.which != 18)\n",
       "        value += \"alt+\";\n",
       "    if (event.shiftKey && event.which != 16)\n",
       "        value += \"shift+\";\n",
       "\n",
       "    value += 'k';\n",
       "    value += event.which.toString();\n",
       "\n",
       "    this._key_event_extra(event, name);\n",
       "\n",
       "    this.send_message(name, {key: value,\n",
       "                             guiEvent: simpleKeys(event)});\n",
       "    return false;\n",
       "}\n",
       "\n",
       "mpl.figure.prototype.toolbar_button_onclick = function(name) {\n",
       "    if (name == 'download') {\n",
       "        this.handle_save(this, null);\n",
       "    } else {\n",
       "        this.send_message(\"toolbar_button\", {name: name});\n",
       "    }\n",
       "};\n",
       "\n",
       "mpl.figure.prototype.toolbar_button_onmouseover = function(tooltip) {\n",
       "    this.message.textContent = tooltip;\n",
       "};\n",
       "mpl.toolbar_items = [[\"Home\", \"Reset original view\", \"fa fa-home icon-home\", \"home\"], [\"Back\", \"Back to previous view\", \"fa fa-arrow-left icon-arrow-left\", \"back\"], [\"Forward\", \"Forward to next view\", \"fa fa-arrow-right icon-arrow-right\", \"forward\"], [\"\", \"\", \"\", \"\"], [\"Pan\", \"Pan axes with left mouse, zoom with right\", \"fa fa-arrows icon-move\", \"pan\"], [\"Zoom\", \"Zoom to rectangle\", \"fa fa-square-o icon-check-empty\", \"zoom\"], [\"\", \"\", \"\", \"\"], [\"Download\", \"Download plot\", \"fa fa-floppy-o icon-save\", \"download\"]];\n",
       "\n",
       "mpl.extensions = [\"eps\", \"jpeg\", \"pdf\", \"png\", \"ps\", \"raw\", \"svg\", \"tif\"];\n",
       "\n",
       "mpl.default_extension = \"png\";var comm_websocket_adapter = function(comm) {\n",
       "    // Create a \"websocket\"-like object which calls the given IPython comm\n",
       "    // object with the appropriate methods. Currently this is a non binary\n",
       "    // socket, so there is still some room for performance tuning.\n",
       "    var ws = {};\n",
       "\n",
       "    ws.close = function() {\n",
       "        comm.close()\n",
       "    };\n",
       "    ws.send = function(m) {\n",
       "        //console.log('sending', m);\n",
       "        comm.send(m);\n",
       "    };\n",
       "    // Register the callback with on_msg.\n",
       "    comm.on_msg(function(msg) {\n",
       "        //console.log('receiving', msg['content']['data'], msg);\n",
       "        // Pass the mpl event to the overridden (by mpl) onmessage function.\n",
       "        ws.onmessage(msg['content']['data'])\n",
       "    });\n",
       "    return ws;\n",
       "}\n",
       "\n",
       "mpl.mpl_figure_comm = function(comm, msg) {\n",
       "    // This is the function which gets called when the mpl process\n",
       "    // starts-up an IPython Comm through the \"matplotlib\" channel.\n",
       "\n",
       "    var id = msg.content.data.id;\n",
       "    // Get hold of the div created by the display call when the Comm\n",
       "    // socket was opened in Python.\n",
       "    var element = $(\"#\" + id);\n",
       "    var ws_proxy = comm_websocket_adapter(comm)\n",
       "\n",
       "    function ondownload(figure, format) {\n",
       "        window.open(figure.imageObj.src);\n",
       "    }\n",
       "\n",
       "    var fig = new mpl.figure(id, ws_proxy,\n",
       "                           ondownload,\n",
       "                           element.get(0));\n",
       "\n",
       "    // Call onopen now - mpl needs it, as it is assuming we've passed it a real\n",
       "    // web socket which is closed, not our websocket->open comm proxy.\n",
       "    ws_proxy.onopen();\n",
       "\n",
       "    fig.parent_element = element.get(0);\n",
       "    fig.cell_info = mpl.find_output_cell(\"<div id='\" + id + \"'></div>\");\n",
       "    if (!fig.cell_info) {\n",
       "        console.error(\"Failed to find cell for figure\", id, fig);\n",
       "        return;\n",
       "    }\n",
       "\n",
       "    var output_index = fig.cell_info[2]\n",
       "    var cell = fig.cell_info[0];\n",
       "\n",
       "};\n",
       "\n",
       "mpl.figure.prototype.handle_close = function(fig, msg) {\n",
       "    var width = fig.canvas.width/mpl.ratio\n",
       "    fig.root.unbind('remove')\n",
       "\n",
       "    // Update the output cell to use the data from the current canvas.\n",
       "    fig.push_to_output();\n",
       "    var dataURL = fig.canvas.toDataURL();\n",
       "    // Re-enable the keyboard manager in IPython - without this line, in FF,\n",
       "    // the notebook keyboard shortcuts fail.\n",
       "    IPython.keyboard_manager.enable()\n",
       "    $(fig.parent_element).html('<img src=\"' + dataURL + '\" width=\"' + width + '\">');\n",
       "    fig.close_ws(fig, msg);\n",
       "}\n",
       "\n",
       "mpl.figure.prototype.close_ws = function(fig, msg){\n",
       "    fig.send_message('closing', msg);\n",
       "    // fig.ws.close()\n",
       "}\n",
       "\n",
       "mpl.figure.prototype.push_to_output = function(remove_interactive) {\n",
       "    // Turn the data on the canvas into data in the output cell.\n",
       "    var width = this.canvas.width/mpl.ratio\n",
       "    var dataURL = this.canvas.toDataURL();\n",
       "    this.cell_info[1]['text/html'] = '<img src=\"' + dataURL + '\" width=\"' + width + '\">';\n",
       "}\n",
       "\n",
       "mpl.figure.prototype.updated_canvas_event = function() {\n",
       "    // Tell IPython that the notebook contents must change.\n",
       "    IPython.notebook.set_dirty(true);\n",
       "    this.send_message(\"ack\", {});\n",
       "    var fig = this;\n",
       "    // Wait a second, then push the new image to the DOM so\n",
       "    // that it is saved nicely (might be nice to debounce this).\n",
       "    setTimeout(function () { fig.push_to_output() }, 1000);\n",
       "}\n",
       "\n",
       "mpl.figure.prototype._init_toolbar = function() {\n",
       "    var fig = this;\n",
       "\n",
       "    var nav_element = $('<div/>');\n",
       "    nav_element.attr('style', 'width: 100%');\n",
       "    this.root.append(nav_element);\n",
       "\n",
       "    // Define a callback function for later on.\n",
       "    function toolbar_event(event) {\n",
       "        return fig.toolbar_button_onclick(event['data']);\n",
       "    }\n",
       "    function toolbar_mouse_event(event) {\n",
       "        return fig.toolbar_button_onmouseover(event['data']);\n",
       "    }\n",
       "\n",
       "    for(var toolbar_ind in mpl.toolbar_items){\n",
       "        var name = mpl.toolbar_items[toolbar_ind][0];\n",
       "        var tooltip = mpl.toolbar_items[toolbar_ind][1];\n",
       "        var image = mpl.toolbar_items[toolbar_ind][2];\n",
       "        var method_name = mpl.toolbar_items[toolbar_ind][3];\n",
       "\n",
       "        if (!name) { continue; };\n",
       "\n",
       "        var button = $('<button class=\"btn btn-default\" href=\"#\" title=\"' + name + '\"><i class=\"fa ' + image + ' fa-lg\"></i></button>');\n",
       "        button.click(method_name, toolbar_event);\n",
       "        button.mouseover(tooltip, toolbar_mouse_event);\n",
       "        nav_element.append(button);\n",
       "    }\n",
       "\n",
       "    // Add the status bar.\n",
       "    var status_bar = $('<span class=\"mpl-message\" style=\"text-align:right; float: right;\"/>');\n",
       "    nav_element.append(status_bar);\n",
       "    this.message = status_bar[0];\n",
       "\n",
       "    // Add the close button to the window.\n",
       "    var buttongrp = $('<div class=\"btn-group inline pull-right\"></div>');\n",
       "    var button = $('<button class=\"btn btn-mini btn-primary\" href=\"#\" title=\"Stop Interaction\"><i class=\"fa fa-power-off icon-remove icon-large\"></i></button>');\n",
       "    button.click(function (evt) { fig.handle_close(fig, {}); } );\n",
       "    button.mouseover('Stop Interaction', toolbar_mouse_event);\n",
       "    buttongrp.append(button);\n",
       "    var titlebar = this.root.find($('.ui-dialog-titlebar'));\n",
       "    titlebar.prepend(buttongrp);\n",
       "}\n",
       "\n",
       "mpl.figure.prototype._root_extra_style = function(el){\n",
       "    var fig = this\n",
       "    el.on(\"remove\", function(){\n",
       "\tfig.close_ws(fig, {});\n",
       "    });\n",
       "}\n",
       "\n",
       "mpl.figure.prototype._canvas_extra_style = function(el){\n",
       "    // this is important to make the div 'focusable\n",
       "    el.attr('tabindex', 0)\n",
       "    // reach out to IPython and tell the keyboard manager to turn it's self\n",
       "    // off when our div gets focus\n",
       "\n",
       "    // location in version 3\n",
       "    if (IPython.notebook.keyboard_manager) {\n",
       "        IPython.notebook.keyboard_manager.register_events(el);\n",
       "    }\n",
       "    else {\n",
       "        // location in version 2\n",
       "        IPython.keyboard_manager.register_events(el);\n",
       "    }\n",
       "\n",
       "}\n",
       "\n",
       "mpl.figure.prototype._key_event_extra = function(event, name) {\n",
       "    var manager = IPython.notebook.keyboard_manager;\n",
       "    if (!manager)\n",
       "        manager = IPython.keyboard_manager;\n",
       "\n",
       "    // Check for shift+enter\n",
       "    if (event.shiftKey && event.which == 13) {\n",
       "        this.canvas_div.blur();\n",
       "        event.shiftKey = false;\n",
       "        // Send a \"J\" for go to next cell\n",
       "        event.which = 74;\n",
       "        event.keyCode = 74;\n",
       "        manager.command_mode();\n",
       "        manager.handle_keydown(event);\n",
       "    }\n",
       "}\n",
       "\n",
       "mpl.figure.prototype.handle_save = function(fig, msg) {\n",
       "    fig.ondownload(fig, null);\n",
       "}\n",
       "\n",
       "\n",
       "mpl.find_output_cell = function(html_output) {\n",
       "    // Return the cell and output element which can be found *uniquely* in the notebook.\n",
       "    // Note - this is a bit hacky, but it is done because the \"notebook_saving.Notebook\"\n",
       "    // IPython event is triggered only after the cells have been serialised, which for\n",
       "    // our purposes (turning an active figure into a static one), is too late.\n",
       "    var cells = IPython.notebook.get_cells();\n",
       "    var ncells = cells.length;\n",
       "    for (var i=0; i<ncells; i++) {\n",
       "        var cell = cells[i];\n",
       "        if (cell.cell_type === 'code'){\n",
       "            for (var j=0; j<cell.output_area.outputs.length; j++) {\n",
       "                var data = cell.output_area.outputs[j];\n",
       "                if (data.data) {\n",
       "                    // IPython >= 3 moved mimebundle to data attribute of output\n",
       "                    data = data.data;\n",
       "                }\n",
       "                if (data['text/html'] == html_output) {\n",
       "                    return [cell, data, j];\n",
       "                }\n",
       "            }\n",
       "        }\n",
       "    }\n",
       "}\n",
       "\n",
       "// Register the function which deals with the matplotlib target/channel.\n",
       "// The kernel may be null if the page has been refreshed.\n",
       "if (IPython.notebook.kernel != null) {\n",
       "    IPython.notebook.kernel.comm_manager.register_target('matplotlib', mpl.mpl_figure_comm);\n",
       "}\n"
      ],
      "text/plain": [
       "<IPython.core.display.Javascript object>"
      ]
     },
     "metadata": {},
     "output_type": "display_data"
    },
    {
     "data": {
      "text/html": [
       "<img src=\"data:image/png;base64,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\" width=\"431.818172458775\">"
      ],
      "text/plain": [
       "<IPython.core.display.HTML object>"
      ]
     },
     "metadata": {},
     "output_type": "display_data"
    }
   ],
   "source": [
    "fig, ax = plt.subplots()\n",
    "line, = ax.plot([])"
   ]
  },
  {
   "cell_type": "code",
   "execution_count": 76,
   "metadata": {},
   "outputs": [],
   "source": [
    "def animacion(i, datos, arduino):\n",
    "    arduino.flushInput()\n",
    "    b = arduino.readline() # Leemos los datos\n",
    "    b_string = b.rstrip().decode() # Quitamos los \\r\\n y lo conertimos a tipo string\n",
    "    b_num = float(b_string) # Lo convertimos a tipo flotante\n",
    "    x.append(i)\n",
    "    datos.append(b_num)\n",
    "        \n",
    "    # Agregamos un límite de 100 datos \n",
    "    datos = datos[-100:]\n",
    "    # Limpiamos el último frame y dibujamos el siguiente\n",
    "    ax.clear()\n",
    "#     ax.plot(i, datos)\n",
    "    line.set_data((x, datos))\n",
    "# Damos formato a la gráfica\n",
    "    ax.set_ylim([0,1023])\n",
    "    ax.set_title(\"Potenciometro vs. Tiempo\")\n",
    "    ax.set_ylabel(\"Lectura\")\n",
    "    ax.set_xlabel(\"tiempo(s)\")\n",
    "    return line"
   ]
  },
  {
   "cell_type": "code",
   "execution_count": 77,
   "metadata": {},
   "outputs": [
    {
     "name": "stdout",
     "output_type": "stream",
     "text": [
      "Fin\n"
     ]
    }
   ],
   "source": [
    "# Corremos la función de animación para mostrar el gráfico\n",
    "%matplotlib notebook\n",
    "\n",
    "ani = animation.FuncAnimation(fig, animacion, fargs=(x, datos), interval=5)\n",
    "# display(ani)\n",
    "plt.show()\n",
    "\n",
    "\n",
    "# Al final cerramos el puerto cierre\n",
    "# arduino.close()\n",
    "print(\"Fin\")"
   ]
  },
  {
   "cell_type": "code",
   "execution_count": 71,
   "metadata": {},
   "outputs": [],
   "source": [
    "arduino.close()"
   ]
  },
  {
   "cell_type": "code",
   "execution_count": null,
   "metadata": {},
   "outputs": [],
   "source": []
  },
  {
   "cell_type": "code",
   "execution_count": null,
   "metadata": {},
   "outputs": [],
   "source": []
  },
  {
   "cell_type": "code",
   "execution_count": null,
   "metadata": {
    "hide_input": true
   },
   "outputs": [],
   "source": [
    "#  objeto serial ( puerto , baudios )\n",
    "# arduino = ser.Serial('COM4', 9600)\n",
    "# arduino.flushInput() # Para limpar el buffer de entrada del puerto serie\n",
    "# time.sleep(2) # Hacemos una pausa de 2 segundos\n",
    "# datos = [] # Lista vacía\n",
    "\n",
    "# while True:\n",
    "#     ser_bytes = arduino.readline()\n",
    "#     decoded_bytes = float(ser_bytes[0:len(ser_bytes)-2].decode(\"utf-8\"))\n",
    "#     print(decoded_bytes)\n",
    "#     except:\n",
    "#         print(\"Keyboard Interrupt\")\n",
    "#         break\n",
    "    \n",
    "# arduino.close()"
   ]
  },
  {
   "cell_type": "code",
   "execution_count": null,
   "metadata": {},
   "outputs": [],
   "source": [
    "# %matplotlib inline\n",
    "# plt.plot(data)\n",
    "# plt.xlabel('Time (seconds)')\n",
    "# plt.ylabel('Potentiometer Reading')\n",
    "# plt.title('Potentiometer Reading vs. Time')\n",
    "# plt.show()"
   ]
  },
  {
   "cell_type": "code",
   "execution_count": 76,
   "metadata": {},
   "outputs": [
    {
     "name": "stdout",
     "output_type": "stream",
     "text": [
      "Python implementation: CPython\n",
      "Python version       : 3.7.4\n",
      "IPython version      : 7.8.0\n",
      "\n",
      "serial    : 3.5\n",
      "matplotlib: 3.1.1\n",
      "jupyter   : 1.0.0\n",
      "conda     : 4.10.3\n",
      "pip       : 19.2.3\n",
      "\n"
     ]
    }
   ],
   "source": [
    "%load_ext watermark\n",
    "%watermark -v -p serial,matplotlib,jupyter,conda,pip"
   ]
  },
  {
   "cell_type": "code",
   "execution_count": null,
   "metadata": {},
   "outputs": [],
   "source": []
  },
  {
   "cell_type": "code",
   "execution_count": null,
   "metadata": {},
   "outputs": [],
   "source": []
  }
 ],
 "metadata": {
  "kernelspec": {
   "display_name": "Python 3",
   "language": "python",
   "name": "python3"
  },
  "language_info": {
   "codemirror_mode": {
    "name": "ipython",
    "version": 3
   },
   "file_extension": ".py",
   "mimetype": "text/x-python",
   "name": "python",
   "nbconvert_exporter": "python",
   "pygments_lexer": "ipython3",
   "version": "3.7.4"
  },
  "toc": {
   "base_numbering": "1",
   "nav_menu": {},
   "number_sections": true,
   "sideBar": true,
   "skip_h1_title": true,
   "title_cell": "Contenido",
   "title_sidebar": "Contents",
   "toc_cell": true,
   "toc_position": {},
   "toc_section_display": true,
   "toc_window_display": true
  }
 },
 "nbformat": 4,
 "nbformat_minor": 2
}
